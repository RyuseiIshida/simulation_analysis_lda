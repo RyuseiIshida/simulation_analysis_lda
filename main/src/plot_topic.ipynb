{
 "cells": [
  {
   "cell_type": "code",
   "execution_count": 2,
   "metadata": {},
   "outputs": [],
   "source": [
    "import pandas as pd\n",
    "import seaborn as sns"
   ]
  },
  {
   "cell_type": "code",
   "execution_count": 3,
   "metadata": {},
   "outputs": [],
   "source": [
    "#CSV読み込み\n",
    "df = pd.read_csv(\"fit_topic.csv\", sep=\",\")\n",
    "df.columns = [\"step\", \"topi1\", \"topic2\", \"topic2\"]"
   ]
  },
  {
   "cell_type": "code",
   "execution_count": 4,
   "metadata": {},
   "outputs": [
    {
     "data": {
      "text/html": [
       "<div>\n",
       "<style scoped>\n",
       "    .dataframe tbody tr th:only-of-type {\n",
       "        vertical-align: middle;\n",
       "    }\n",
       "\n",
       "    .dataframe tbody tr th {\n",
       "        vertical-align: top;\n",
       "    }\n",
       "\n",
       "    .dataframe thead th {\n",
       "        text-align: right;\n",
       "    }\n",
       "</style>\n",
       "<table border=\"1\" class=\"dataframe\">\n",
       "  <thead>\n",
       "    <tr style=\"text-align: right;\">\n",
       "      <th></th>\n",
       "      <th>step</th>\n",
       "      <th>topi1</th>\n",
       "      <th>topic2</th>\n",
       "      <th>topic2</th>\n",
       "    </tr>\n",
       "  </thead>\n",
       "  <tbody>\n",
       "    <tr>\n",
       "      <th>0</th>\n",
       "      <td>1</td>\n",
       "      <td>0.000000</td>\n",
       "      <td>0.000000</td>\n",
       "      <td>0.992641</td>\n",
       "    </tr>\n",
       "    <tr>\n",
       "      <th>1</th>\n",
       "      <td>2</td>\n",
       "      <td>0.040706</td>\n",
       "      <td>0.096875</td>\n",
       "      <td>0.862419</td>\n",
       "    </tr>\n",
       "    <tr>\n",
       "      <th>2</th>\n",
       "      <td>3</td>\n",
       "      <td>0.627637</td>\n",
       "      <td>0.000000</td>\n",
       "      <td>0.368099</td>\n",
       "    </tr>\n",
       "    <tr>\n",
       "      <th>3</th>\n",
       "      <td>4</td>\n",
       "      <td>0.000000</td>\n",
       "      <td>0.740792</td>\n",
       "      <td>0.254757</td>\n",
       "    </tr>\n",
       "    <tr>\n",
       "      <th>4</th>\n",
       "      <td>5</td>\n",
       "      <td>0.000000</td>\n",
       "      <td>0.986514</td>\n",
       "      <td>0.000000</td>\n",
       "    </tr>\n",
       "  </tbody>\n",
       "</table>\n",
       "</div>"
      ],
      "text/plain": [
       "   step     topi1    topic2    topic2\n",
       "0     1  0.000000  0.000000  0.992641\n",
       "1     2  0.040706  0.096875  0.862419\n",
       "2     3  0.627637  0.000000  0.368099\n",
       "3     4  0.000000  0.740792  0.254757\n",
       "4     5  0.000000  0.986514  0.000000"
      ]
     },
     "execution_count": 4,
     "metadata": {},
     "output_type": "execute_result"
    }
   ],
   "source": [
    "df.head()"
   ]
  },
  {
   "cell_type": "code",
   "execution_count": 7,
   "metadata": {},
   "outputs": [
    {
     "data": {
      "text/plain": [
       "['anscombe',\n",
       " 'attention',\n",
       " 'brain_networks',\n",
       " 'car_crashes',\n",
       " 'diamonds',\n",
       " 'dots',\n",
       " 'exercise',\n",
       " 'flights',\n",
       " 'fmri',\n",
       " 'gammas',\n",
       " 'iris',\n",
       " 'mpg',\n",
       " 'planets',\n",
       " 'tips',\n",
       " 'titanic']"
      ]
     },
     "execution_count": 7,
     "metadata": {},
     "output_type": "execute_result"
    }
   ],
   "source": [
    "sns.get_dataset_names()"
   ]
  },
  {
   "cell_type": "code",
   "execution_count": 12,
   "metadata": {},
   "outputs": [
    {
     "name": "stdout",
     "output_type": "stream",
     "text": [
      "[-0.72040053 -1.09911388 -0.48578807 -0.75347746  1.47186629  1.11864927\n",
      "  0.32838081  0.41173203  1.25805139  0.98363148  0.05066797 -0.06667749\n",
      "  0.3452786   0.14552066 -0.03765227  0.57072837  0.45407519  0.40339104\n",
      " -1.9128498  -0.17595429  0.29708357 -0.37837373  1.6266519   0.1887227\n",
      " -0.74858424  0.16245294 -0.38054832 -1.55419239 -0.09233811 -1.4080166\n",
      "  0.78757847  0.87631292  0.04627733  0.77475259 -0.29357254  1.43930427\n",
      "  0.88908372  0.98891348  0.26393172  0.86620418  0.71703974 -0.49049773\n",
      " -1.07806643  0.71379791  0.96839032  1.67362782 -0.15880734  2.12582546\n",
      "  1.06797781 -0.33664068 -1.43996747 -0.45286376  0.5971518   0.25209983\n",
      " -1.55186005  0.66569283 -0.26336545  0.07485026  0.22810768 -0.69839825\n",
      "  0.70243861 -0.87158674 -1.01564438  2.69718612  0.58190072  1.29568615\n",
      "  0.17300878  2.30841215  0.38758646 -0.25494817  0.41981225  1.08449575\n",
      " -0.05145748 -1.00486907 -1.66314088  0.03083609  0.60374868 -0.18827924\n",
      "  0.41216412  2.33114887  0.87659671  0.78845999  1.87999513 -0.01335893\n",
      " -0.70847041  1.67992749 -1.17727071 -0.06484827 -0.85492218  1.05941347\n",
      " -0.93525724  1.61250246  0.29010762  2.24924326 -0.71904016  0.70182012\n",
      "  1.18823918 -0.04888473 -0.46464499 -0.19698692]\n"
     ]
    }
   ],
   "source": [
    "x = np.random.normal(size=100)\n",
    "print(x)"
   ]
  },
  {
   "cell_type": "code",
   "execution_count": null,
   "metadata": {},
   "outputs": [],
   "source": []
  }
 ],
 "metadata": {
  "kernelspec": {
   "display_name": "Python 3",
   "language": "python",
   "name": "python3"
  },
  "language_info": {
   "codemirror_mode": {
    "name": "ipython",
    "version": 3
   },
   "file_extension": ".py",
   "mimetype": "text/x-python",
   "name": "python",
   "nbconvert_exporter": "python",
   "pygments_lexer": "ipython3",
   "version": "3.6.8"
  }
 },
 "nbformat": 4,
 "nbformat_minor": 4
}
